{
  "nbformat": 4,
  "nbformat_minor": 0,
  "metadata": {
    "colab": {
      "provenance": [],
      "collapsed_sections": [
        "0_guki-JTTib",
        "zP4rj1F1vUbH",
        "zUDTnsaRTQhL",
        "nsOyWJUXqESk",
        "GO1ixFzAOpGx"
      ],
      "gpuType": "T4"
    },
    "kernelspec": {
      "name": "python3",
      "display_name": "Python 3"
    },
    "language_info": {
      "name": "python"
    }
  },
  "cells": [
    {
      "cell_type": "markdown",
      "source": [],
      "metadata": {
        "id": "7CCOfs7IlBD6"
      }
    },
    {
      "cell_type": "code",
      "source": [
        "from sklearn.datasets import load_iris\n",
        "from sklearn.model_selection import train_test_split\n",
        "from sklearn.preprocessing import StandardScaler\n",
        "from sklearn.impute import SimpleImputer\n",
        "from sklearn.svm import SVC\n",
        "import numpy as np\n",
        "import pandas as pd\n",
        "from sklearn.metrics import accuracy_score\n",
        "from sklearn.pipeline import Pipeline\n",
        "from sklearn.linear_model import LogisticRegression\n",
        "import matplotlib.pyplot as plt\n",
        "from sklearn import metrics\n",
        "from sklearn.ensemble import RandomForestClassifier\n",
        "import seaborn as sns\n",
        "from sklearn.metrics import r2_score\n",
        "from mpl_toolkits.mplot3d import Axes3D\n",
        "from sklearn.linear_model import LinearRegression\n",
        "from sklearn.model_selection import cross_val_score"
      ],
      "metadata": {
        "id": "4wj9RewLbC5m"
      },
      "execution_count": null,
      "outputs": []
    },
    {
      "cell_type": "markdown",
      "source": [
        "##BASE DE DATOS DE PRODUCCION DE AUTOS USANDO LINEAR REGRESSION"
      ],
      "metadata": {
        "id": "0_guki-JTTib"
      }
    },
    {
      "cell_type": "code",
      "source": [
        "#CARGANDO LA BD\n",
        "dfproduccion = pd.read_csv('/content/sample_data/produccion.csv', delimiter=',')\n",
        "\n",
        "dfproduccion.head(5)"
      ],
      "metadata": {
        "id": "OFqcNgTbbAU1",
        "colab": {
          "base_uri": "https://localhost:8080/",
          "height": 206
        },
        "outputId": "14b73331-de05-4b09-9f71-e8dfd23c7f9b"
      },
      "execution_count": null,
      "outputs": [
        {
          "output_type": "execute_result",
          "data": {
            "text/plain": [
              "   Semana  Horas Trabajadas  Horas Descanso Productos Terminados\n",
              "0       1                42               2                 28,9\n",
              "1       2                45               3                 30,6\n",
              "2       3                30               2                 21,1\n",
              "3       4                33               2                 21,8\n",
              "4       5                33               3                 19,3"
            ],
            "text/html": [
              "\n",
              "  <div id=\"df-92e8f829-0d3c-4385-951f-f5d860875654\" class=\"colab-df-container\">\n",
              "    <div>\n",
              "<style scoped>\n",
              "    .dataframe tbody tr th:only-of-type {\n",
              "        vertical-align: middle;\n",
              "    }\n",
              "\n",
              "    .dataframe tbody tr th {\n",
              "        vertical-align: top;\n",
              "    }\n",
              "\n",
              "    .dataframe thead th {\n",
              "        text-align: right;\n",
              "    }\n",
              "</style>\n",
              "<table border=\"1\" class=\"dataframe\">\n",
              "  <thead>\n",
              "    <tr style=\"text-align: right;\">\n",
              "      <th></th>\n",
              "      <th>Semana</th>\n",
              "      <th>Horas Trabajadas</th>\n",
              "      <th>Horas Descanso</th>\n",
              "      <th>Productos Terminados</th>\n",
              "    </tr>\n",
              "  </thead>\n",
              "  <tbody>\n",
              "    <tr>\n",
              "      <th>0</th>\n",
              "      <td>1</td>\n",
              "      <td>42</td>\n",
              "      <td>2</td>\n",
              "      <td>28,9</td>\n",
              "    </tr>\n",
              "    <tr>\n",
              "      <th>1</th>\n",
              "      <td>2</td>\n",
              "      <td>45</td>\n",
              "      <td>3</td>\n",
              "      <td>30,6</td>\n",
              "    </tr>\n",
              "    <tr>\n",
              "      <th>2</th>\n",
              "      <td>3</td>\n",
              "      <td>30</td>\n",
              "      <td>2</td>\n",
              "      <td>21,1</td>\n",
              "    </tr>\n",
              "    <tr>\n",
              "      <th>3</th>\n",
              "      <td>4</td>\n",
              "      <td>33</td>\n",
              "      <td>2</td>\n",
              "      <td>21,8</td>\n",
              "    </tr>\n",
              "    <tr>\n",
              "      <th>4</th>\n",
              "      <td>5</td>\n",
              "      <td>33</td>\n",
              "      <td>3</td>\n",
              "      <td>19,3</td>\n",
              "    </tr>\n",
              "  </tbody>\n",
              "</table>\n",
              "</div>\n",
              "    <div class=\"colab-df-buttons\">\n",
              "\n",
              "  <div class=\"colab-df-container\">\n",
              "    <button class=\"colab-df-convert\" onclick=\"convertToInteractive('df-92e8f829-0d3c-4385-951f-f5d860875654')\"\n",
              "            title=\"Convert this dataframe to an interactive table.\"\n",
              "            style=\"display:none;\">\n",
              "\n",
              "  <svg xmlns=\"http://www.w3.org/2000/svg\" height=\"24px\" viewBox=\"0 -960 960 960\">\n",
              "    <path d=\"M120-120v-720h720v720H120Zm60-500h600v-160H180v160Zm220 220h160v-160H400v160Zm0 220h160v-160H400v160ZM180-400h160v-160H180v160Zm440 0h160v-160H620v160ZM180-180h160v-160H180v160Zm440 0h160v-160H620v160Z\"/>\n",
              "  </svg>\n",
              "    </button>\n",
              "\n",
              "  <style>\n",
              "    .colab-df-container {\n",
              "      display:flex;\n",
              "      gap: 12px;\n",
              "    }\n",
              "\n",
              "    .colab-df-convert {\n",
              "      background-color: #E8F0FE;\n",
              "      border: none;\n",
              "      border-radius: 50%;\n",
              "      cursor: pointer;\n",
              "      display: none;\n",
              "      fill: #1967D2;\n",
              "      height: 32px;\n",
              "      padding: 0 0 0 0;\n",
              "      width: 32px;\n",
              "    }\n",
              "\n",
              "    .colab-df-convert:hover {\n",
              "      background-color: #E2EBFA;\n",
              "      box-shadow: 0px 1px 2px rgba(60, 64, 67, 0.3), 0px 1px 3px 1px rgba(60, 64, 67, 0.15);\n",
              "      fill: #174EA6;\n",
              "    }\n",
              "\n",
              "    .colab-df-buttons div {\n",
              "      margin-bottom: 4px;\n",
              "    }\n",
              "\n",
              "    [theme=dark] .colab-df-convert {\n",
              "      background-color: #3B4455;\n",
              "      fill: #D2E3FC;\n",
              "    }\n",
              "\n",
              "    [theme=dark] .colab-df-convert:hover {\n",
              "      background-color: #434B5C;\n",
              "      box-shadow: 0px 1px 3px 1px rgba(0, 0, 0, 0.15);\n",
              "      filter: drop-shadow(0px 1px 2px rgba(0, 0, 0, 0.3));\n",
              "      fill: #FFFFFF;\n",
              "    }\n",
              "  </style>\n",
              "\n",
              "    <script>\n",
              "      const buttonEl =\n",
              "        document.querySelector('#df-92e8f829-0d3c-4385-951f-f5d860875654 button.colab-df-convert');\n",
              "      buttonEl.style.display =\n",
              "        google.colab.kernel.accessAllowed ? 'block' : 'none';\n",
              "\n",
              "      async function convertToInteractive(key) {\n",
              "        const element = document.querySelector('#df-92e8f829-0d3c-4385-951f-f5d860875654');\n",
              "        const dataTable =\n",
              "          await google.colab.kernel.invokeFunction('convertToInteractive',\n",
              "                                                    [key], {});\n",
              "        if (!dataTable) return;\n",
              "\n",
              "        const docLinkHtml = 'Like what you see? Visit the ' +\n",
              "          '<a target=\"_blank\" href=https://colab.research.google.com/notebooks/data_table.ipynb>data table notebook</a>'\n",
              "          + ' to learn more about interactive tables.';\n",
              "        element.innerHTML = '';\n",
              "        dataTable['output_type'] = 'display_data';\n",
              "        await google.colab.output.renderOutput(dataTable, element);\n",
              "        const docLink = document.createElement('div');\n",
              "        docLink.innerHTML = docLinkHtml;\n",
              "        element.appendChild(docLink);\n",
              "      }\n",
              "    </script>\n",
              "  </div>\n",
              "\n",
              "\n",
              "<div id=\"df-942fe765-d4c6-402c-976a-d2394fd615a2\">\n",
              "  <button class=\"colab-df-quickchart\" onclick=\"quickchart('df-942fe765-d4c6-402c-976a-d2394fd615a2')\"\n",
              "            title=\"Suggest charts\"\n",
              "            style=\"display:none;\">\n",
              "\n",
              "<svg xmlns=\"http://www.w3.org/2000/svg\" height=\"24px\"viewBox=\"0 0 24 24\"\n",
              "     width=\"24px\">\n",
              "    <g>\n",
              "        <path d=\"M19 3H5c-1.1 0-2 .9-2 2v14c0 1.1.9 2 2 2h14c1.1 0 2-.9 2-2V5c0-1.1-.9-2-2-2zM9 17H7v-7h2v7zm4 0h-2V7h2v10zm4 0h-2v-4h2v4z\"/>\n",
              "    </g>\n",
              "</svg>\n",
              "  </button>\n",
              "\n",
              "<style>\n",
              "  .colab-df-quickchart {\n",
              "      --bg-color: #E8F0FE;\n",
              "      --fill-color: #1967D2;\n",
              "      --hover-bg-color: #E2EBFA;\n",
              "      --hover-fill-color: #174EA6;\n",
              "      --disabled-fill-color: #AAA;\n",
              "      --disabled-bg-color: #DDD;\n",
              "  }\n",
              "\n",
              "  [theme=dark] .colab-df-quickchart {\n",
              "      --bg-color: #3B4455;\n",
              "      --fill-color: #D2E3FC;\n",
              "      --hover-bg-color: #434B5C;\n",
              "      --hover-fill-color: #FFFFFF;\n",
              "      --disabled-bg-color: #3B4455;\n",
              "      --disabled-fill-color: #666;\n",
              "  }\n",
              "\n",
              "  .colab-df-quickchart {\n",
              "    background-color: var(--bg-color);\n",
              "    border: none;\n",
              "    border-radius: 50%;\n",
              "    cursor: pointer;\n",
              "    display: none;\n",
              "    fill: var(--fill-color);\n",
              "    height: 32px;\n",
              "    padding: 0;\n",
              "    width: 32px;\n",
              "  }\n",
              "\n",
              "  .colab-df-quickchart:hover {\n",
              "    background-color: var(--hover-bg-color);\n",
              "    box-shadow: 0 1px 2px rgba(60, 64, 67, 0.3), 0 1px 3px 1px rgba(60, 64, 67, 0.15);\n",
              "    fill: var(--button-hover-fill-color);\n",
              "  }\n",
              "\n",
              "  .colab-df-quickchart-complete:disabled,\n",
              "  .colab-df-quickchart-complete:disabled:hover {\n",
              "    background-color: var(--disabled-bg-color);\n",
              "    fill: var(--disabled-fill-color);\n",
              "    box-shadow: none;\n",
              "  }\n",
              "\n",
              "  .colab-df-spinner {\n",
              "    border: 2px solid var(--fill-color);\n",
              "    border-color: transparent;\n",
              "    border-bottom-color: var(--fill-color);\n",
              "    animation:\n",
              "      spin 1s steps(1) infinite;\n",
              "  }\n",
              "\n",
              "  @keyframes spin {\n",
              "    0% {\n",
              "      border-color: transparent;\n",
              "      border-bottom-color: var(--fill-color);\n",
              "      border-left-color: var(--fill-color);\n",
              "    }\n",
              "    20% {\n",
              "      border-color: transparent;\n",
              "      border-left-color: var(--fill-color);\n",
              "      border-top-color: var(--fill-color);\n",
              "    }\n",
              "    30% {\n",
              "      border-color: transparent;\n",
              "      border-left-color: var(--fill-color);\n",
              "      border-top-color: var(--fill-color);\n",
              "      border-right-color: var(--fill-color);\n",
              "    }\n",
              "    40% {\n",
              "      border-color: transparent;\n",
              "      border-right-color: var(--fill-color);\n",
              "      border-top-color: var(--fill-color);\n",
              "    }\n",
              "    60% {\n",
              "      border-color: transparent;\n",
              "      border-right-color: var(--fill-color);\n",
              "    }\n",
              "    80% {\n",
              "      border-color: transparent;\n",
              "      border-right-color: var(--fill-color);\n",
              "      border-bottom-color: var(--fill-color);\n",
              "    }\n",
              "    90% {\n",
              "      border-color: transparent;\n",
              "      border-bottom-color: var(--fill-color);\n",
              "    }\n",
              "  }\n",
              "</style>\n",
              "\n",
              "  <script>\n",
              "    async function quickchart(key) {\n",
              "      const quickchartButtonEl =\n",
              "        document.querySelector('#' + key + ' button');\n",
              "      quickchartButtonEl.disabled = true;  // To prevent multiple clicks.\n",
              "      quickchartButtonEl.classList.add('colab-df-spinner');\n",
              "      try {\n",
              "        const charts = await google.colab.kernel.invokeFunction(\n",
              "            'suggestCharts', [key], {});\n",
              "      } catch (error) {\n",
              "        console.error('Error during call to suggestCharts:', error);\n",
              "      }\n",
              "      quickchartButtonEl.classList.remove('colab-df-spinner');\n",
              "      quickchartButtonEl.classList.add('colab-df-quickchart-complete');\n",
              "    }\n",
              "    (() => {\n",
              "      let quickchartButtonEl =\n",
              "        document.querySelector('#df-942fe765-d4c6-402c-976a-d2394fd615a2 button');\n",
              "      quickchartButtonEl.style.display =\n",
              "        google.colab.kernel.accessAllowed ? 'block' : 'none';\n",
              "    })();\n",
              "  </script>\n",
              "</div>\n",
              "\n",
              "    </div>\n",
              "  </div>\n"
            ],
            "application/vnd.google.colaboratory.intrinsic+json": {
              "type": "dataframe",
              "variable_name": "dfproduccion",
              "summary": "{\n  \"name\": \"dfproduccion\",\n  \"rows\": 50,\n  \"fields\": [\n    {\n      \"column\": \"Semana\",\n      \"properties\": {\n        \"dtype\": \"number\",\n        \"std\": 14,\n        \"min\": 1,\n        \"max\": 50,\n        \"num_unique_values\": 50,\n        \"samples\": [\n          14,\n          40,\n          31\n        ],\n        \"semantic_type\": \"\",\n        \"description\": \"\"\n      }\n    },\n    {\n      \"column\": \"Horas Trabajadas\",\n      \"properties\": {\n        \"dtype\": \"number\",\n        \"std\": 6,\n        \"min\": 30,\n        \"max\": 50,\n        \"num_unique_values\": 21,\n        \"samples\": [\n          42,\n          46,\n          38\n        ],\n        \"semantic_type\": \"\",\n        \"description\": \"\"\n      }\n    },\n    {\n      \"column\": \"Horas Descanso\",\n      \"properties\": {\n        \"dtype\": \"number\",\n        \"std\": 0,\n        \"min\": 2,\n        \"max\": 3,\n        \"num_unique_values\": 2,\n        \"samples\": [\n          3,\n          2\n        ],\n        \"semantic_type\": \"\",\n        \"description\": \"\"\n      }\n    },\n    {\n      \"column\": \"Productos Terminados\",\n      \"properties\": {\n        \"dtype\": \"string\",\n        \"num_unique_values\": 41,\n        \"samples\": [\n          \"25,9\",\n          \"25,5\"\n        ],\n        \"semantic_type\": \"\",\n        \"description\": \"\"\n      }\n    }\n  ]\n}"
            }
          },
          "metadata": {},
          "execution_count": 32
        }
      ]
    },
    {
      "cell_type": "code",
      "source": [
        "dfproduccion.info() #OBTENEMOS LA INFORMACION QUE CONTIENE LA BD"
      ],
      "metadata": {
        "colab": {
          "base_uri": "https://localhost:8080/"
        },
        "id": "eQ3bjb-o90cq",
        "outputId": "1e4dcb50-5378-40e7-cd1b-246216d5bf17"
      },
      "execution_count": null,
      "outputs": [
        {
          "output_type": "stream",
          "name": "stdout",
          "text": [
            "<class 'pandas.core.frame.DataFrame'>\n",
            "RangeIndex: 50 entries, 0 to 49\n",
            "Data columns (total 4 columns):\n",
            " #   Column                Non-Null Count  Dtype \n",
            "---  ------                --------------  ----- \n",
            " 0   Semana                50 non-null     int64 \n",
            " 1   Horas Trabajadas      50 non-null     int64 \n",
            " 2   Horas Descanso        50 non-null     int64 \n",
            " 3   Productos Terminados  50 non-null     object\n",
            "dtypes: int64(3), object(1)\n",
            "memory usage: 1.7+ KB\n"
          ]
        }
      ]
    },
    {
      "cell_type": "code",
      "source": [
        "datos_faltantes = dfproduccion.isnull().sum()\n",
        "print(datos_faltantes)#Podemos observar que no existen datos faltantes"
      ],
      "metadata": {
        "colab": {
          "base_uri": "https://localhost:8080/"
        },
        "id": "YQxHqJUdEnql",
        "outputId": "0e807622-0b69-4f7d-e470-f4f6d3b440f1"
      },
      "execution_count": null,
      "outputs": [
        {
          "output_type": "stream",
          "name": "stdout",
          "text": [
            "Semana                  0\n",
            "Horas Trabajadas        0\n",
            "Horas Descanso          0\n",
            "Productos Terminados    0\n",
            "dtype: int64\n"
          ]
        }
      ]
    },
    {
      "cell_type": "markdown",
      "source": [
        "REALIZAMOS UN PREPROCESAMIENTO"
      ],
      "metadata": {
        "id": "C0FbJ-4IIn1v"
      }
    },
    {
      "cell_type": "code",
      "source": [
        "def convert_column_to_float(dfproduccion, column_name):\n",
        "    if dfproduccion[column_name].dtype == 'object':\n",
        "        dfproduccion[column_name] = dfproduccion[column_name].str.replace(',', '.').astype(float)\n",
        "    return dfproduccion\n",
        "#CAMBIAMOS EL TIPO DE DATO A FLOTANTE PARA TRABAJAR\n",
        "dfproduccion = convert_column_to_float(dfproduccion, 'Horas Trabajadas')\n",
        "dfproduccion = convert_column_to_float(dfproduccion, 'Horas Descanso')\n",
        "dfproduccion = convert_column_to_float(dfproduccion, 'Productos Terminados')"
      ],
      "metadata": {
        "id": "Y_7hMJ1r9__4"
      },
      "execution_count": null,
      "outputs": []
    },
    {
      "cell_type": "code",
      "source": [
        "\n",
        "\n",
        "variables_x = ['Horas Trabajadas', 'Horas Descanso']\n",
        "variable_y = 'Productos Terminados'\n"
      ],
      "metadata": {
        "id": "6lE8Zk6Q-ogV"
      },
      "execution_count": null,
      "outputs": []
    },
    {
      "cell_type": "markdown",
      "source": [
        "USO DEL MODELO LINEAR REGRESSION"
      ],
      "metadata": {
        "id": "CPgsKkiLJGc2"
      }
    },
    {
      "cell_type": "code",
      "source": [
        "#Seleccionamos las columnas a usar para entrenar nuestro modelo\n",
        "x1 = \"Horas Trabajadas\"\n",
        "x2 = \"Horas Descanso\"\n",
        "y = \"Productos Terminados\""
      ],
      "metadata": {
        "id": "bN-lnmwN8rNv"
      },
      "execution_count": null,
      "outputs": []
    },
    {
      "cell_type": "code",
      "source": [
        "\n",
        "variables_x = [x1, x2]\n",
        "variable_y = y\n",
        "modelo = LinearRegression()# generamos la regresión lineal\n",
        "modelo.fit(dfproduccion[variables_x], dfproduccion[variable_y])# entrenamos el modelo\n",
        "\n"
      ],
      "metadata": {
        "id": "Sdm9j_gt8xCK"
      },
      "execution_count": null,
      "outputs": []
    },
    {
      "cell_type": "code",
      "source": [
        "\n",
        "#OBTENEMOS LAS METRICAS\n",
        "y_pred = modelo.predict(dfproduccion[variables_x])\n",
        "accuracy = r2_score(dfproduccion[variable_y], y_pred)\n",
        "print(\"Accuracy:\", accuracy)\n"
      ],
      "metadata": {
        "id": "G9JSIBBACS-7"
      },
      "execution_count": null,
      "outputs": []
    },
    {
      "cell_type": "code",
      "source": [
        "# Se crea un gráfico de dispersión con las predicciones del modelo\n",
        "plt.figure(figsize=(10, 8))\n",
        "\n",
        "# Graficamos los puntos de datos originales\n",
        "plt.scatter(dfproduccion['Horas Trabajadas'], dfproduccion['Productos Terminados'], color='blue', label='Datos originales')\n",
        "x_fit = np.linspace(dfproduccion['Horas Trabajadas'].min(), dfproduccion['Horas Trabajadas'].max(), 100)\n",
        "y_fit = np.linspace(dfproduccion['Horas Descanso'].min(), dfproduccion['Horas Descanso'].max(), 100)\n",
        "X_fit = np.array(np.meshgrid(x_fit, y_fit)).T.reshape(-1, 2)\n",
        "y_pred = modelo.predict(X_fit)\n",
        "\n",
        "# Graficamos las predicciones\n",
        "plt.scatter(X_fit[:, 0], y_pred, color='red', alpha=0.3, label='Predicciones del modelo')\n",
        "\n",
        "plt.xlabel('Horas Trabajadas')\n",
        "plt.ylabel('Productos Terminados')\n",
        "plt.title('Regresión Lineal Multivariable')\n",
        "plt.legend()\n",
        "plt.show()"
      ],
      "metadata": {
        "id": "G9srjkvNAJQq"
      },
      "execution_count": null,
      "outputs": []
    },
    {
      "cell_type": "code",
      "source": [
        "# Generamos la predicción\n",
        "\n",
        "horas_trabajadas_nuevas = 15\n",
        "horas_descanso_nuevas = 3\n",
        "\n",
        "prediccion_nueva = pd.DataFrame({x1: [horas_trabajadas_nuevas], x2: [horas_descanso_nuevas]})\n",
        "autos_producidos_prediccion = modelo.predict(prediccion_nueva)\n",
        "print('La predicción de productos producidos para', horas_trabajadas_nuevas, 'horas trabajadas y', horas_descanso_nuevas, 'horas de descanso es', round(autos_producidos_prediccion[0], 3))"
      ],
      "metadata": {
        "id": "FDki1eRV82O4"
      },
      "execution_count": null,
      "outputs": []
    },
    {
      "cell_type": "markdown",
      "source": [
        "##BASE DE DATOS DE PRODUCCION USANDO REDES NEURANALES\n"
      ],
      "metadata": {
        "id": "cOT73w2fH1Z4"
      }
    },
    {
      "cell_type": "code",
      "source": [
        "from sklearn.metrics import mean_squared_error\n",
        "\n",
        "import tensorflow as tf\n",
        "from tensorflow.keras.models import Sequential\n",
        "from tensorflow.keras.layers import Dense\n",
        "X = dfproduccion[['Horas Trabajadas', 'Horas Descanso']]\n",
        "y = dfproduccion['Productos Terminados']\n",
        "# Dividir los datos en conjuntos de entrenamiento y prueba\n",
        "X_train, X_test, y_train, y_test = train_test_split(X, y, test_size=0.3, random_state=42)\n"
      ],
      "metadata": {
        "collapsed": true,
        "id": "qsA-5rmLGqMu"
      },
      "execution_count": null,
      "outputs": []
    },
    {
      "cell_type": "code",
      "source": [
        "\n",
        "# Normalizar las características para trabajar\n",
        "scaler = StandardScaler()\n",
        "X_train_scaled = scaler.fit_transform(X_train)\n",
        "X_test_scaled = scaler.transform(X_test)"
      ],
      "metadata": {
        "id": "MXRHOq0EIqBj"
      },
      "execution_count": null,
      "outputs": []
    },
    {
      "cell_type": "code",
      "source": [
        "# Definimos el modelo de red neuronal\n",
        "model = Sequential()\n",
        "model.add(Dense(64, input_dim=X_train_scaled.shape[1], activation='relu'))\n",
        "model.add(Dense(32, activation='relu'))\n",
        "model.add(Dense(16, activation='relu'))\n",
        "model.add(Dense(1))  # Salida para regresión"
      ],
      "metadata": {
        "id": "OL43b7lwIpxd"
      },
      "execution_count": null,
      "outputs": []
    },
    {
      "cell_type": "code",
      "source": [
        "\n",
        "# Definimos nuestro optimizador, en caso adam\n",
        "model.compile(optimizer='adam', loss='mean_squared_error')"
      ],
      "metadata": {
        "id": "wtrHVJ2SIpnm"
      },
      "execution_count": null,
      "outputs": []
    },
    {
      "cell_type": "code",
      "source": [
        "# Entrenamiento del modelo\n",
        "model.fit(X_train_scaled, y_train, epochs=100, batch_size=10, validation_data=(X_test_scaled, y_test))"
      ],
      "metadata": {
        "colab": {
          "base_uri": "https://localhost:8080/"
        },
        "id": "nj7WHkelIpUQ",
        "outputId": "3b787091-05e4-4f1f-d5d2-038f0ef399b8"
      },
      "execution_count": null,
      "outputs": [
        {
          "output_type": "stream",
          "name": "stdout",
          "text": [
            "Epoch 1/100\n",
            "4/4 [==============================] - 2s 95ms/step - loss: 657.9061 - val_loss: 536.0049\n",
            "Epoch 2/100\n",
            "4/4 [==============================] - 0s 24ms/step - loss: 650.4107 - val_loss: 528.3069\n",
            "Epoch 3/100\n",
            "4/4 [==============================] - 0s 25ms/step - loss: 643.1925 - val_loss: 521.1512\n",
            "Epoch 4/100\n",
            "4/4 [==============================] - 0s 26ms/step - loss: 636.0406 - val_loss: 513.3654\n",
            "Epoch 5/100\n",
            "4/4 [==============================] - 0s 19ms/step - loss: 627.6113 - val_loss: 504.7418\n",
            "Epoch 6/100\n",
            "4/4 [==============================] - 0s 24ms/step - loss: 618.0516 - val_loss: 494.9844\n",
            "Epoch 7/100\n",
            "4/4 [==============================] - 0s 25ms/step - loss: 607.1561 - val_loss: 484.0157\n",
            "Epoch 8/100\n",
            "4/4 [==============================] - 0s 22ms/step - loss: 594.9459 - val_loss: 471.4699\n",
            "Epoch 9/100\n",
            "4/4 [==============================] - 0s 26ms/step - loss: 580.6491 - val_loss: 457.0726\n",
            "Epoch 10/100\n",
            "4/4 [==============================] - 0s 25ms/step - loss: 564.2859 - val_loss: 440.3736\n",
            "Epoch 11/100\n",
            "4/4 [==============================] - 0s 25ms/step - loss: 545.7181 - val_loss: 421.2654\n",
            "Epoch 12/100\n",
            "4/4 [==============================] - 0s 29ms/step - loss: 524.3364 - val_loss: 400.0005\n",
            "Epoch 13/100\n",
            "4/4 [==============================] - 0s 23ms/step - loss: 500.5180 - val_loss: 376.3160\n",
            "Epoch 14/100\n",
            "4/4 [==============================] - 0s 28ms/step - loss: 473.7254 - val_loss: 350.3329\n",
            "Epoch 15/100\n",
            "4/4 [==============================] - 0s 30ms/step - loss: 444.6841 - val_loss: 321.6682\n",
            "Epoch 16/100\n",
            "4/4 [==============================] - 0s 25ms/step - loss: 410.8004 - val_loss: 290.9940\n",
            "Epoch 17/100\n",
            "4/4 [==============================] - 0s 30ms/step - loss: 375.1708 - val_loss: 257.9774\n",
            "Epoch 18/100\n",
            "4/4 [==============================] - 0s 25ms/step - loss: 337.7831 - val_loss: 223.4147\n",
            "Epoch 19/100\n",
            "4/4 [==============================] - 0s 27ms/step - loss: 296.5052 - val_loss: 188.2162\n",
            "Epoch 20/100\n",
            "4/4 [==============================] - 0s 27ms/step - loss: 253.9218 - val_loss: 153.5174\n",
            "Epoch 21/100\n",
            "4/4 [==============================] - 0s 25ms/step - loss: 211.9959 - val_loss: 120.1375\n",
            "Epoch 22/100\n",
            "4/4 [==============================] - 0s 28ms/step - loss: 170.3682 - val_loss: 89.8769\n",
            "Epoch 23/100\n",
            "4/4 [==============================] - 0s 31ms/step - loss: 132.0902 - val_loss: 64.0677\n",
            "Epoch 24/100\n",
            "4/4 [==============================] - 0s 21ms/step - loss: 98.2124 - val_loss: 43.7734\n",
            "Epoch 25/100\n",
            "4/4 [==============================] - 0s 16ms/step - loss: 71.0083 - val_loss: 29.5239\n",
            "Epoch 26/100\n",
            "4/4 [==============================] - 0s 14ms/step - loss: 51.2760 - val_loss: 21.1680\n",
            "Epoch 27/100\n",
            "4/4 [==============================] - 0s 14ms/step - loss: 37.5811 - val_loss: 17.2247\n",
            "Epoch 28/100\n",
            "4/4 [==============================] - 0s 14ms/step - loss: 30.1094 - val_loss: 15.6727\n",
            "Epoch 29/100\n",
            "4/4 [==============================] - 0s 19ms/step - loss: 26.8396 - val_loss: 14.8769\n",
            "Epoch 30/100\n",
            "4/4 [==============================] - 0s 14ms/step - loss: 25.1175 - val_loss: 13.1490\n",
            "Epoch 31/100\n",
            "4/4 [==============================] - 0s 19ms/step - loss: 23.3397 - val_loss: 11.4315\n",
            "Epoch 32/100\n",
            "4/4 [==============================] - 0s 13ms/step - loss: 21.4911 - val_loss: 9.8951\n",
            "Epoch 33/100\n",
            "4/4 [==============================] - 0s 16ms/step - loss: 19.8074 - val_loss: 8.2763\n",
            "Epoch 34/100\n",
            "4/4 [==============================] - 0s 17ms/step - loss: 18.1767 - val_loss: 7.1458\n",
            "Epoch 35/100\n",
            "4/4 [==============================] - 0s 21ms/step - loss: 17.0547 - val_loss: 6.4346\n",
            "Epoch 36/100\n",
            "4/4 [==============================] - 0s 14ms/step - loss: 15.9560 - val_loss: 6.0192\n",
            "Epoch 37/100\n",
            "4/4 [==============================] - 0s 13ms/step - loss: 15.1860 - val_loss: 5.7627\n",
            "Epoch 38/100\n",
            "4/4 [==============================] - 0s 21ms/step - loss: 14.5219 - val_loss: 5.5685\n",
            "Epoch 39/100\n",
            "4/4 [==============================] - 0s 21ms/step - loss: 13.8982 - val_loss: 5.4262\n",
            "Epoch 40/100\n",
            "4/4 [==============================] - 0s 17ms/step - loss: 13.2791 - val_loss: 5.3555\n",
            "Epoch 41/100\n",
            "4/4 [==============================] - 0s 15ms/step - loss: 12.7133 - val_loss: 5.3336\n",
            "Epoch 42/100\n",
            "4/4 [==============================] - 0s 21ms/step - loss: 12.2023 - val_loss: 5.2631\n",
            "Epoch 43/100\n",
            "4/4 [==============================] - 0s 19ms/step - loss: 11.8010 - val_loss: 5.1715\n",
            "Epoch 44/100\n",
            "4/4 [==============================] - 0s 14ms/step - loss: 11.3605 - val_loss: 5.1241\n",
            "Epoch 45/100\n",
            "4/4 [==============================] - 0s 13ms/step - loss: 10.9543 - val_loss: 5.1479\n",
            "Epoch 46/100\n",
            "4/4 [==============================] - 0s 13ms/step - loss: 10.5966 - val_loss: 5.1572\n",
            "Epoch 47/100\n",
            "4/4 [==============================] - 0s 18ms/step - loss: 10.3023 - val_loss: 5.1175\n",
            "Epoch 48/100\n",
            "4/4 [==============================] - 0s 13ms/step - loss: 9.9154 - val_loss: 5.2335\n",
            "Epoch 49/100\n",
            "4/4 [==============================] - 0s 18ms/step - loss: 9.6703 - val_loss: 5.3249\n",
            "Epoch 50/100\n",
            "4/4 [==============================] - 0s 21ms/step - loss: 9.3218 - val_loss: 5.3574\n",
            "Epoch 51/100\n",
            "4/4 [==============================] - 0s 20ms/step - loss: 9.0936 - val_loss: 5.2727\n",
            "Epoch 52/100\n",
            "4/4 [==============================] - 0s 19ms/step - loss: 8.8270 - val_loss: 5.2230\n",
            "Epoch 53/100\n",
            "4/4 [==============================] - 0s 19ms/step - loss: 8.5594 - val_loss: 5.1327\n",
            "Epoch 54/100\n",
            "4/4 [==============================] - 0s 16ms/step - loss: 8.3885 - val_loss: 5.0916\n",
            "Epoch 55/100\n",
            "4/4 [==============================] - 0s 22ms/step - loss: 8.2203 - val_loss: 5.0022\n",
            "Epoch 56/100\n",
            "4/4 [==============================] - 0s 22ms/step - loss: 8.0649 - val_loss: 4.9172\n",
            "Epoch 57/100\n",
            "4/4 [==============================] - 0s 16ms/step - loss: 7.8735 - val_loss: 4.9790\n",
            "Epoch 58/100\n",
            "4/4 [==============================] - 0s 18ms/step - loss: 7.7231 - val_loss: 5.1577\n",
            "Epoch 59/100\n",
            "4/4 [==============================] - 0s 19ms/step - loss: 7.5748 - val_loss: 5.3641\n",
            "Epoch 60/100\n",
            "4/4 [==============================] - 0s 13ms/step - loss: 7.3989 - val_loss: 5.4367\n",
            "Epoch 61/100\n",
            "4/4 [==============================] - 0s 19ms/step - loss: 7.3008 - val_loss: 5.5715\n",
            "Epoch 62/100\n",
            "4/4 [==============================] - 0s 15ms/step - loss: 7.2150 - val_loss: 5.6530\n",
            "Epoch 63/100\n",
            "4/4 [==============================] - 0s 13ms/step - loss: 7.1070 - val_loss: 5.6573\n",
            "Epoch 64/100\n",
            "4/4 [==============================] - 0s 21ms/step - loss: 7.0062 - val_loss: 5.4986\n",
            "Epoch 65/100\n",
            "4/4 [==============================] - 0s 20ms/step - loss: 6.8684 - val_loss: 5.5049\n",
            "Epoch 66/100\n",
            "4/4 [==============================] - 0s 16ms/step - loss: 6.7534 - val_loss: 5.5570\n",
            "Epoch 67/100\n",
            "4/4 [==============================] - 0s 20ms/step - loss: 6.6893 - val_loss: 5.5140\n",
            "Epoch 68/100\n",
            "4/4 [==============================] - 0s 20ms/step - loss: 6.5429 - val_loss: 5.6216\n",
            "Epoch 69/100\n",
            "4/4 [==============================] - 0s 22ms/step - loss: 6.4738 - val_loss: 5.8012\n",
            "Epoch 70/100\n",
            "4/4 [==============================] - 0s 22ms/step - loss: 6.4131 - val_loss: 5.8535\n",
            "Epoch 71/100\n",
            "4/4 [==============================] - 0s 21ms/step - loss: 6.3709 - val_loss: 5.7823\n",
            "Epoch 72/100\n",
            "4/4 [==============================] - 0s 14ms/step - loss: 6.2763 - val_loss: 5.7079\n",
            "Epoch 73/100\n",
            "4/4 [==============================] - 0s 19ms/step - loss: 6.1689 - val_loss: 5.5871\n",
            "Epoch 74/100\n",
            "4/4 [==============================] - 0s 18ms/step - loss: 6.0836 - val_loss: 5.4721\n",
            "Epoch 75/100\n",
            "4/4 [==============================] - 0s 19ms/step - loss: 6.0670 - val_loss: 5.3054\n",
            "Epoch 76/100\n",
            "4/4 [==============================] - 0s 21ms/step - loss: 5.9576 - val_loss: 5.2927\n",
            "Epoch 77/100\n",
            "4/4 [==============================] - 0s 19ms/step - loss: 5.8975 - val_loss: 5.2034\n",
            "Epoch 78/100\n",
            "4/4 [==============================] - 0s 19ms/step - loss: 5.8404 - val_loss: 5.1706\n",
            "Epoch 79/100\n",
            "4/4 [==============================] - 0s 20ms/step - loss: 5.7869 - val_loss: 5.1405\n",
            "Epoch 80/100\n",
            "4/4 [==============================] - 0s 21ms/step - loss: 5.7352 - val_loss: 5.0405\n",
            "Epoch 81/100\n",
            "4/4 [==============================] - 0s 19ms/step - loss: 5.6623 - val_loss: 5.0863\n",
            "Epoch 82/100\n",
            "4/4 [==============================] - 0s 13ms/step - loss: 5.6329 - val_loss: 5.1828\n",
            "Epoch 83/100\n",
            "4/4 [==============================] - 0s 17ms/step - loss: 5.5507 - val_loss: 5.2023\n",
            "Epoch 84/100\n",
            "4/4 [==============================] - 0s 22ms/step - loss: 5.4981 - val_loss: 5.2443\n",
            "Epoch 85/100\n",
            "4/4 [==============================] - 0s 18ms/step - loss: 5.4525 - val_loss: 5.3113\n",
            "Epoch 86/100\n",
            "4/4 [==============================] - 0s 16ms/step - loss: 5.3958 - val_loss: 5.2192\n",
            "Epoch 87/100\n",
            "4/4 [==============================] - 0s 14ms/step - loss: 5.3472 - val_loss: 4.9988\n",
            "Epoch 88/100\n",
            "4/4 [==============================] - 0s 19ms/step - loss: 5.3087 - val_loss: 4.8311\n",
            "Epoch 89/100\n",
            "4/4 [==============================] - 0s 14ms/step - loss: 5.2867 - val_loss: 4.7251\n",
            "Epoch 90/100\n",
            "4/4 [==============================] - 0s 20ms/step - loss: 5.2397 - val_loss: 4.6870\n",
            "Epoch 91/100\n",
            "4/4 [==============================] - 0s 13ms/step - loss: 5.1750 - val_loss: 4.7838\n",
            "Epoch 92/100\n",
            "4/4 [==============================] - 0s 18ms/step - loss: 5.1320 - val_loss: 4.8247\n",
            "Epoch 93/100\n",
            "4/4 [==============================] - 0s 19ms/step - loss: 5.1039 - val_loss: 4.8138\n",
            "Epoch 94/100\n",
            "4/4 [==============================] - 0s 20ms/step - loss: 5.0390 - val_loss: 4.6615\n",
            "Epoch 95/100\n",
            "4/4 [==============================] - 0s 23ms/step - loss: 5.0449 - val_loss: 4.5180\n",
            "Epoch 96/100\n",
            "4/4 [==============================] - 0s 24ms/step - loss: 4.9645 - val_loss: 4.5747\n",
            "Epoch 97/100\n",
            "4/4 [==============================] - 0s 15ms/step - loss: 4.9244 - val_loss: 4.7004\n",
            "Epoch 98/100\n",
            "4/4 [==============================] - 0s 17ms/step - loss: 4.8849 - val_loss: 4.7477\n",
            "Epoch 99/100\n",
            "4/4 [==============================] - 0s 22ms/step - loss: 4.8608 - val_loss: 4.6541\n",
            "Epoch 100/100\n",
            "4/4 [==============================] - 0s 17ms/step - loss: 4.8086 - val_loss: 4.6592\n"
          ]
        },
        {
          "output_type": "execute_result",
          "data": {
            "text/plain": [
              "<keras.src.callbacks.History at 0x7ab7accaad10>"
            ]
          },
          "metadata": {},
          "execution_count": 48
        }
      ]
    },
    {
      "cell_type": "code",
      "source": [
        "# Evaluamos el desempeño del modelo\n",
        "y_pred = model.predict(X_test_scaled)\n",
        "mse = mean_squared_error(y_test, y_pred)\n",
        "print(f'Mean Squared Error: {mse}')\n",
        "\n",
        "\n",
        "threshold = 10  # Definir un umbral aceptable de error\n",
        "correct_predictions = sum(abs(y_test - y_pred.flatten()) <= threshold)\n",
        "total_predictions = len(y_test)\n",
        "pseudo_accuracy = correct_predictions / total_predictions\n",
        "print(f'Pseudo-Accuracy: {pseudo_accuracy:.2f}')"
      ],
      "metadata": {
        "colab": {
          "base_uri": "https://localhost:8080/"
        },
        "id": "af75m7szJD9U",
        "outputId": "fc4b78ca-0b0b-40b7-e809-898b38b9c2c2"
      },
      "execution_count": null,
      "outputs": [
        {
          "output_type": "stream",
          "name": "stdout",
          "text": [
            "1/1 [==============================] - 0s 70ms/step\n",
            "Mean Squared Error: 4.659186238593771\n",
            "Pseudo-Accuracy: 1.00\n"
          ]
        }
      ]
    },
    {
      "cell_type": "markdown",
      "source": [
        "## BASE DE DATOS SPAM CLASIFICACION con SVM"
      ],
      "metadata": {
        "id": "ke4C-eYbtA7B"
      }
    },
    {
      "cell_type": "markdown",
      "source": [
        "Descripción del Problema\n",
        "El objetivo es clasificar correos electrónicos como spam o no spam. El spam puede incluir anuncios, esquemas de dinero rápido, cadenas, pornografía, etc. Los correos no spam provienen de correos personales y de trabajo. Algunas palabras específicas como 'george' y el código de área '650' indican que no son spam.\n",
        "\n",
        "Datos y Características\n",
        "Fuentes de datos: Correos spam de administradores y usuarios, correos no spam de archivos personales y laborales.\n",
        "Indicadores de spam: Frecuencia de palabras y caracteres específicos.\n",
        "Indicadores de no spam: Palabras y caracteres que aparecen en correos legítimos.\n",
        "Atributos:\n",
        "48 atributos: Porcentaje de veces que una palabra específica aparece en el correo.\n",
        "6 atributos: Porcentaje de veces que un carácter específico aparece en el correo.\n",
        "3 atributos: Relacionados con secuencias de letras mayúsculas (longitud promedio, longitud más larga, y suma total).\n",
        "1 atributo de clase: Indica si es spam (1) o no (0)."
      ],
      "metadata": {
        "id": "qBG45xr0Fr62"
      }
    },
    {
      "cell_type": "code",
      "source": [
        "#CARGANDO LA BD de SPAM\n",
        "dfspam = pd.read_csv('/content/sample_data/spambase.data', sep=',')\n",
        "\n",
        "dfspam.head()"
      ],
      "metadata": {
        "colab": {
          "base_uri": "https://localhost:8080/",
          "height": 236
        },
        "collapsed": true,
        "id": "iWTdJzdtoz6s",
        "outputId": "e56199bd-50c1-423c-8843-f97b8b4f1441"
      },
      "execution_count": null,
      "outputs": [
        {
          "output_type": "execute_result",
          "data": {
            "text/plain": [
              "      0  0.64  0.64.1  0.1  0.32   0.2   0.3   0.4   0.5   0.6  ...  0.41  \\\n",
              "0  0.21  0.28    0.50  0.0  0.14  0.28  0.21  0.07  0.00  0.94  ...  0.00   \n",
              "1  0.06  0.00    0.71  0.0  1.23  0.19  0.19  0.12  0.64  0.25  ...  0.01   \n",
              "2  0.00  0.00    0.00  0.0  0.63  0.00  0.31  0.63  0.31  0.63  ...  0.00   \n",
              "3  0.00  0.00    0.00  0.0  0.63  0.00  0.31  0.63  0.31  0.63  ...  0.00   \n",
              "4  0.00  0.00    0.00  0.0  1.85  0.00  0.00  1.85  0.00  0.00  ...  0.00   \n",
              "\n",
              "    0.42  0.43  0.778   0.44   0.45  3.756   61   278  1  \n",
              "0  0.132   0.0  0.372  0.180  0.048  5.114  101  1028  1  \n",
              "1  0.143   0.0  0.276  0.184  0.010  9.821  485  2259  1  \n",
              "2  0.137   0.0  0.137  0.000  0.000  3.537   40   191  1  \n",
              "3  0.135   0.0  0.135  0.000  0.000  3.537   40   191  1  \n",
              "4  0.223   0.0  0.000  0.000  0.000  3.000   15    54  1  \n",
              "\n",
              "[5 rows x 58 columns]"
            ],
            "text/html": [
              "\n",
              "  <div id=\"df-45059530-4b19-48d3-9f7e-806988608a3c\" class=\"colab-df-container\">\n",
              "    <div>\n",
              "<style scoped>\n",
              "    .dataframe tbody tr th:only-of-type {\n",
              "        vertical-align: middle;\n",
              "    }\n",
              "\n",
              "    .dataframe tbody tr th {\n",
              "        vertical-align: top;\n",
              "    }\n",
              "\n",
              "    .dataframe thead th {\n",
              "        text-align: right;\n",
              "    }\n",
              "</style>\n",
              "<table border=\"1\" class=\"dataframe\">\n",
              "  <thead>\n",
              "    <tr style=\"text-align: right;\">\n",
              "      <th></th>\n",
              "      <th>0</th>\n",
              "      <th>0.64</th>\n",
              "      <th>0.64.1</th>\n",
              "      <th>0.1</th>\n",
              "      <th>0.32</th>\n",
              "      <th>0.2</th>\n",
              "      <th>0.3</th>\n",
              "      <th>0.4</th>\n",
              "      <th>0.5</th>\n",
              "      <th>0.6</th>\n",
              "      <th>...</th>\n",
              "      <th>0.41</th>\n",
              "      <th>0.42</th>\n",
              "      <th>0.43</th>\n",
              "      <th>0.778</th>\n",
              "      <th>0.44</th>\n",
              "      <th>0.45</th>\n",
              "      <th>3.756</th>\n",
              "      <th>61</th>\n",
              "      <th>278</th>\n",
              "      <th>1</th>\n",
              "    </tr>\n",
              "  </thead>\n",
              "  <tbody>\n",
              "    <tr>\n",
              "      <th>0</th>\n",
              "      <td>0.21</td>\n",
              "      <td>0.28</td>\n",
              "      <td>0.50</td>\n",
              "      <td>0.0</td>\n",
              "      <td>0.14</td>\n",
              "      <td>0.28</td>\n",
              "      <td>0.21</td>\n",
              "      <td>0.07</td>\n",
              "      <td>0.00</td>\n",
              "      <td>0.94</td>\n",
              "      <td>...</td>\n",
              "      <td>0.00</td>\n",
              "      <td>0.132</td>\n",
              "      <td>0.0</td>\n",
              "      <td>0.372</td>\n",
              "      <td>0.180</td>\n",
              "      <td>0.048</td>\n",
              "      <td>5.114</td>\n",
              "      <td>101</td>\n",
              "      <td>1028</td>\n",
              "      <td>1</td>\n",
              "    </tr>\n",
              "    <tr>\n",
              "      <th>1</th>\n",
              "      <td>0.06</td>\n",
              "      <td>0.00</td>\n",
              "      <td>0.71</td>\n",
              "      <td>0.0</td>\n",
              "      <td>1.23</td>\n",
              "      <td>0.19</td>\n",
              "      <td>0.19</td>\n",
              "      <td>0.12</td>\n",
              "      <td>0.64</td>\n",
              "      <td>0.25</td>\n",
              "      <td>...</td>\n",
              "      <td>0.01</td>\n",
              "      <td>0.143</td>\n",
              "      <td>0.0</td>\n",
              "      <td>0.276</td>\n",
              "      <td>0.184</td>\n",
              "      <td>0.010</td>\n",
              "      <td>9.821</td>\n",
              "      <td>485</td>\n",
              "      <td>2259</td>\n",
              "      <td>1</td>\n",
              "    </tr>\n",
              "    <tr>\n",
              "      <th>2</th>\n",
              "      <td>0.00</td>\n",
              "      <td>0.00</td>\n",
              "      <td>0.00</td>\n",
              "      <td>0.0</td>\n",
              "      <td>0.63</td>\n",
              "      <td>0.00</td>\n",
              "      <td>0.31</td>\n",
              "      <td>0.63</td>\n",
              "      <td>0.31</td>\n",
              "      <td>0.63</td>\n",
              "      <td>...</td>\n",
              "      <td>0.00</td>\n",
              "      <td>0.137</td>\n",
              "      <td>0.0</td>\n",
              "      <td>0.137</td>\n",
              "      <td>0.000</td>\n",
              "      <td>0.000</td>\n",
              "      <td>3.537</td>\n",
              "      <td>40</td>\n",
              "      <td>191</td>\n",
              "      <td>1</td>\n",
              "    </tr>\n",
              "    <tr>\n",
              "      <th>3</th>\n",
              "      <td>0.00</td>\n",
              "      <td>0.00</td>\n",
              "      <td>0.00</td>\n",
              "      <td>0.0</td>\n",
              "      <td>0.63</td>\n",
              "      <td>0.00</td>\n",
              "      <td>0.31</td>\n",
              "      <td>0.63</td>\n",
              "      <td>0.31</td>\n",
              "      <td>0.63</td>\n",
              "      <td>...</td>\n",
              "      <td>0.00</td>\n",
              "      <td>0.135</td>\n",
              "      <td>0.0</td>\n",
              "      <td>0.135</td>\n",
              "      <td>0.000</td>\n",
              "      <td>0.000</td>\n",
              "      <td>3.537</td>\n",
              "      <td>40</td>\n",
              "      <td>191</td>\n",
              "      <td>1</td>\n",
              "    </tr>\n",
              "    <tr>\n",
              "      <th>4</th>\n",
              "      <td>0.00</td>\n",
              "      <td>0.00</td>\n",
              "      <td>0.00</td>\n",
              "      <td>0.0</td>\n",
              "      <td>1.85</td>\n",
              "      <td>0.00</td>\n",
              "      <td>0.00</td>\n",
              "      <td>1.85</td>\n",
              "      <td>0.00</td>\n",
              "      <td>0.00</td>\n",
              "      <td>...</td>\n",
              "      <td>0.00</td>\n",
              "      <td>0.223</td>\n",
              "      <td>0.0</td>\n",
              "      <td>0.000</td>\n",
              "      <td>0.000</td>\n",
              "      <td>0.000</td>\n",
              "      <td>3.000</td>\n",
              "      <td>15</td>\n",
              "      <td>54</td>\n",
              "      <td>1</td>\n",
              "    </tr>\n",
              "  </tbody>\n",
              "</table>\n",
              "<p>5 rows × 58 columns</p>\n",
              "</div>\n",
              "    <div class=\"colab-df-buttons\">\n",
              "\n",
              "  <div class=\"colab-df-container\">\n",
              "    <button class=\"colab-df-convert\" onclick=\"convertToInteractive('df-45059530-4b19-48d3-9f7e-806988608a3c')\"\n",
              "            title=\"Convert this dataframe to an interactive table.\"\n",
              "            style=\"display:none;\">\n",
              "\n",
              "  <svg xmlns=\"http://www.w3.org/2000/svg\" height=\"24px\" viewBox=\"0 -960 960 960\">\n",
              "    <path d=\"M120-120v-720h720v720H120Zm60-500h600v-160H180v160Zm220 220h160v-160H400v160Zm0 220h160v-160H400v160ZM180-400h160v-160H180v160Zm440 0h160v-160H620v160ZM180-180h160v-160H180v160Zm440 0h160v-160H620v160Z\"/>\n",
              "  </svg>\n",
              "    </button>\n",
              "\n",
              "  <style>\n",
              "    .colab-df-container {\n",
              "      display:flex;\n",
              "      gap: 12px;\n",
              "    }\n",
              "\n",
              "    .colab-df-convert {\n",
              "      background-color: #E8F0FE;\n",
              "      border: none;\n",
              "      border-radius: 50%;\n",
              "      cursor: pointer;\n",
              "      display: none;\n",
              "      fill: #1967D2;\n",
              "      height: 32px;\n",
              "      padding: 0 0 0 0;\n",
              "      width: 32px;\n",
              "    }\n",
              "\n",
              "    .colab-df-convert:hover {\n",
              "      background-color: #E2EBFA;\n",
              "      box-shadow: 0px 1px 2px rgba(60, 64, 67, 0.3), 0px 1px 3px 1px rgba(60, 64, 67, 0.15);\n",
              "      fill: #174EA6;\n",
              "    }\n",
              "\n",
              "    .colab-df-buttons div {\n",
              "      margin-bottom: 4px;\n",
              "    }\n",
              "\n",
              "    [theme=dark] .colab-df-convert {\n",
              "      background-color: #3B4455;\n",
              "      fill: #D2E3FC;\n",
              "    }\n",
              "\n",
              "    [theme=dark] .colab-df-convert:hover {\n",
              "      background-color: #434B5C;\n",
              "      box-shadow: 0px 1px 3px 1px rgba(0, 0, 0, 0.15);\n",
              "      filter: drop-shadow(0px 1px 2px rgba(0, 0, 0, 0.3));\n",
              "      fill: #FFFFFF;\n",
              "    }\n",
              "  </style>\n",
              "\n",
              "    <script>\n",
              "      const buttonEl =\n",
              "        document.querySelector('#df-45059530-4b19-48d3-9f7e-806988608a3c button.colab-df-convert');\n",
              "      buttonEl.style.display =\n",
              "        google.colab.kernel.accessAllowed ? 'block' : 'none';\n",
              "\n",
              "      async function convertToInteractive(key) {\n",
              "        const element = document.querySelector('#df-45059530-4b19-48d3-9f7e-806988608a3c');\n",
              "        const dataTable =\n",
              "          await google.colab.kernel.invokeFunction('convertToInteractive',\n",
              "                                                    [key], {});\n",
              "        if (!dataTable) return;\n",
              "\n",
              "        const docLinkHtml = 'Like what you see? Visit the ' +\n",
              "          '<a target=\"_blank\" href=https://colab.research.google.com/notebooks/data_table.ipynb>data table notebook</a>'\n",
              "          + ' to learn more about interactive tables.';\n",
              "        element.innerHTML = '';\n",
              "        dataTable['output_type'] = 'display_data';\n",
              "        await google.colab.output.renderOutput(dataTable, element);\n",
              "        const docLink = document.createElement('div');\n",
              "        docLink.innerHTML = docLinkHtml;\n",
              "        element.appendChild(docLink);\n",
              "      }\n",
              "    </script>\n",
              "  </div>\n",
              "\n",
              "\n",
              "<div id=\"df-0a17465c-debb-48a1-9dcf-a67bee2b176f\">\n",
              "  <button class=\"colab-df-quickchart\" onclick=\"quickchart('df-0a17465c-debb-48a1-9dcf-a67bee2b176f')\"\n",
              "            title=\"Suggest charts\"\n",
              "            style=\"display:none;\">\n",
              "\n",
              "<svg xmlns=\"http://www.w3.org/2000/svg\" height=\"24px\"viewBox=\"0 0 24 24\"\n",
              "     width=\"24px\">\n",
              "    <g>\n",
              "        <path d=\"M19 3H5c-1.1 0-2 .9-2 2v14c0 1.1.9 2 2 2h14c1.1 0 2-.9 2-2V5c0-1.1-.9-2-2-2zM9 17H7v-7h2v7zm4 0h-2V7h2v10zm4 0h-2v-4h2v4z\"/>\n",
              "    </g>\n",
              "</svg>\n",
              "  </button>\n",
              "\n",
              "<style>\n",
              "  .colab-df-quickchart {\n",
              "      --bg-color: #E8F0FE;\n",
              "      --fill-color: #1967D2;\n",
              "      --hover-bg-color: #E2EBFA;\n",
              "      --hover-fill-color: #174EA6;\n",
              "      --disabled-fill-color: #AAA;\n",
              "      --disabled-bg-color: #DDD;\n",
              "  }\n",
              "\n",
              "  [theme=dark] .colab-df-quickchart {\n",
              "      --bg-color: #3B4455;\n",
              "      --fill-color: #D2E3FC;\n",
              "      --hover-bg-color: #434B5C;\n",
              "      --hover-fill-color: #FFFFFF;\n",
              "      --disabled-bg-color: #3B4455;\n",
              "      --disabled-fill-color: #666;\n",
              "  }\n",
              "\n",
              "  .colab-df-quickchart {\n",
              "    background-color: var(--bg-color);\n",
              "    border: none;\n",
              "    border-radius: 50%;\n",
              "    cursor: pointer;\n",
              "    display: none;\n",
              "    fill: var(--fill-color);\n",
              "    height: 32px;\n",
              "    padding: 0;\n",
              "    width: 32px;\n",
              "  }\n",
              "\n",
              "  .colab-df-quickchart:hover {\n",
              "    background-color: var(--hover-bg-color);\n",
              "    box-shadow: 0 1px 2px rgba(60, 64, 67, 0.3), 0 1px 3px 1px rgba(60, 64, 67, 0.15);\n",
              "    fill: var(--button-hover-fill-color);\n",
              "  }\n",
              "\n",
              "  .colab-df-quickchart-complete:disabled,\n",
              "  .colab-df-quickchart-complete:disabled:hover {\n",
              "    background-color: var(--disabled-bg-color);\n",
              "    fill: var(--disabled-fill-color);\n",
              "    box-shadow: none;\n",
              "  }\n",
              "\n",
              "  .colab-df-spinner {\n",
              "    border: 2px solid var(--fill-color);\n",
              "    border-color: transparent;\n",
              "    border-bottom-color: var(--fill-color);\n",
              "    animation:\n",
              "      spin 1s steps(1) infinite;\n",
              "  }\n",
              "\n",
              "  @keyframes spin {\n",
              "    0% {\n",
              "      border-color: transparent;\n",
              "      border-bottom-color: var(--fill-color);\n",
              "      border-left-color: var(--fill-color);\n",
              "    }\n",
              "    20% {\n",
              "      border-color: transparent;\n",
              "      border-left-color: var(--fill-color);\n",
              "      border-top-color: var(--fill-color);\n",
              "    }\n",
              "    30% {\n",
              "      border-color: transparent;\n",
              "      border-left-color: var(--fill-color);\n",
              "      border-top-color: var(--fill-color);\n",
              "      border-right-color: var(--fill-color);\n",
              "    }\n",
              "    40% {\n",
              "      border-color: transparent;\n",
              "      border-right-color: var(--fill-color);\n",
              "      border-top-color: var(--fill-color);\n",
              "    }\n",
              "    60% {\n",
              "      border-color: transparent;\n",
              "      border-right-color: var(--fill-color);\n",
              "    }\n",
              "    80% {\n",
              "      border-color: transparent;\n",
              "      border-right-color: var(--fill-color);\n",
              "      border-bottom-color: var(--fill-color);\n",
              "    }\n",
              "    90% {\n",
              "      border-color: transparent;\n",
              "      border-bottom-color: var(--fill-color);\n",
              "    }\n",
              "  }\n",
              "</style>\n",
              "\n",
              "  <script>\n",
              "    async function quickchart(key) {\n",
              "      const quickchartButtonEl =\n",
              "        document.querySelector('#' + key + ' button');\n",
              "      quickchartButtonEl.disabled = true;  // To prevent multiple clicks.\n",
              "      quickchartButtonEl.classList.add('colab-df-spinner');\n",
              "      try {\n",
              "        const charts = await google.colab.kernel.invokeFunction(\n",
              "            'suggestCharts', [key], {});\n",
              "      } catch (error) {\n",
              "        console.error('Error during call to suggestCharts:', error);\n",
              "      }\n",
              "      quickchartButtonEl.classList.remove('colab-df-spinner');\n",
              "      quickchartButtonEl.classList.add('colab-df-quickchart-complete');\n",
              "    }\n",
              "    (() => {\n",
              "      let quickchartButtonEl =\n",
              "        document.querySelector('#df-0a17465c-debb-48a1-9dcf-a67bee2b176f button');\n",
              "      quickchartButtonEl.style.display =\n",
              "        google.colab.kernel.accessAllowed ? 'block' : 'none';\n",
              "    })();\n",
              "  </script>\n",
              "</div>\n",
              "\n",
              "    </div>\n",
              "  </div>\n"
            ],
            "application/vnd.google.colaboratory.intrinsic+json": {
              "type": "dataframe",
              "variable_name": "dfspam"
            }
          },
          "metadata": {},
          "execution_count": 50
        }
      ]
    },
    {
      "cell_type": "code",
      "source": [
        "dfspam.info()#Realizamos una consultado de los datos del dataframe"
      ],
      "metadata": {
        "colab": {
          "base_uri": "https://localhost:8080/"
        },
        "collapsed": true,
        "id": "6Eye4JRGs6gd",
        "outputId": "e153e10b-9d08-4712-e8c0-88cf8884bdd4"
      },
      "execution_count": null,
      "outputs": [
        {
          "output_type": "stream",
          "name": "stdout",
          "text": [
            "<class 'pandas.core.frame.DataFrame'>\n",
            "RangeIndex: 4600 entries, 0 to 4599\n",
            "Data columns (total 58 columns):\n",
            " #   Column  Non-Null Count  Dtype  \n",
            "---  ------  --------------  -----  \n",
            " 0   0       4600 non-null   float64\n",
            " 1   0.64    4600 non-null   float64\n",
            " 2   0.64.1  4600 non-null   float64\n",
            " 3   0.1     4600 non-null   float64\n",
            " 4   0.32    4600 non-null   float64\n",
            " 5   0.2     4600 non-null   float64\n",
            " 6   0.3     4600 non-null   float64\n",
            " 7   0.4     4600 non-null   float64\n",
            " 8   0.5     4600 non-null   float64\n",
            " 9   0.6     4600 non-null   float64\n",
            " 10  0.7     4600 non-null   float64\n",
            " 11  0.64.2  4600 non-null   float64\n",
            " 12  0.8     4600 non-null   float64\n",
            " 13  0.9     4600 non-null   float64\n",
            " 14  0.10    4600 non-null   float64\n",
            " 15  0.32.1  4600 non-null   float64\n",
            " 16  0.11    4600 non-null   float64\n",
            " 17  1.29    4600 non-null   float64\n",
            " 18  1.93    4600 non-null   float64\n",
            " 19  0.12    4600 non-null   float64\n",
            " 20  0.96    4600 non-null   float64\n",
            " 21  0.13    4600 non-null   float64\n",
            " 22  0.14    4600 non-null   float64\n",
            " 23  0.15    4600 non-null   float64\n",
            " 24  0.16    4600 non-null   float64\n",
            " 25  0.17    4600 non-null   float64\n",
            " 26  0.18    4600 non-null   float64\n",
            " 27  0.19    4600 non-null   float64\n",
            " 28  0.20    4600 non-null   float64\n",
            " 29  0.21    4600 non-null   float64\n",
            " 30  0.22    4600 non-null   float64\n",
            " 31  0.23    4600 non-null   float64\n",
            " 32  0.24    4600 non-null   float64\n",
            " 33  0.25    4600 non-null   float64\n",
            " 34  0.26    4600 non-null   float64\n",
            " 35  0.27    4600 non-null   float64\n",
            " 36  0.28    4600 non-null   float64\n",
            " 37  0.29    4600 non-null   float64\n",
            " 38  0.30    4600 non-null   float64\n",
            " 39  0.31    4600 non-null   float64\n",
            " 40  0.33    4600 non-null   float64\n",
            " 41  0.34    4600 non-null   float64\n",
            " 42  0.35    4600 non-null   float64\n",
            " 43  0.36    4600 non-null   float64\n",
            " 44  0.37    4600 non-null   float64\n",
            " 45  0.38    4600 non-null   float64\n",
            " 46  0.39    4600 non-null   float64\n",
            " 47  0.40    4600 non-null   float64\n",
            " 48  0.41    4600 non-null   float64\n",
            " 49  0.42    4600 non-null   float64\n",
            " 50  0.43    4600 non-null   float64\n",
            " 51  0.778   4600 non-null   float64\n",
            " 52  0.44    4600 non-null   float64\n",
            " 53  0.45    4600 non-null   float64\n",
            " 54  3.756   4600 non-null   float64\n",
            " 55  61      4600 non-null   int64  \n",
            " 56  278     4600 non-null   int64  \n",
            " 57  1       4600 non-null   int64  \n",
            "dtypes: float64(55), int64(3)\n",
            "memory usage: 2.0 MB\n"
          ]
        }
      ]
    },
    {
      "cell_type": "code",
      "source": [
        "datos_faltantes = dfspam.isnull().sum()\n",
        "print(datos_faltantes)#Podemos observar que no existen datos faltantes"
      ],
      "metadata": {
        "colab": {
          "base_uri": "https://localhost:8080/"
        },
        "collapsed": true,
        "id": "L-YfJe8xtLGZ",
        "outputId": "3c86bcae-5541-4e51-a8ce-33ea39f2e261"
      },
      "execution_count": null,
      "outputs": [
        {
          "output_type": "stream",
          "name": "stdout",
          "text": [
            "0         0\n",
            "0.64      0\n",
            "0.64.1    0\n",
            "0.1       0\n",
            "0.32      0\n",
            "0.2       0\n",
            "0.3       0\n",
            "0.4       0\n",
            "0.5       0\n",
            "0.6       0\n",
            "0.7       0\n",
            "0.64.2    0\n",
            "0.8       0\n",
            "0.9       0\n",
            "0.10      0\n",
            "0.32.1    0\n",
            "0.11      0\n",
            "1.29      0\n",
            "1.93      0\n",
            "0.12      0\n",
            "0.96      0\n",
            "0.13      0\n",
            "0.14      0\n",
            "0.15      0\n",
            "0.16      0\n",
            "0.17      0\n",
            "0.18      0\n",
            "0.19      0\n",
            "0.20      0\n",
            "0.21      0\n",
            "0.22      0\n",
            "0.23      0\n",
            "0.24      0\n",
            "0.25      0\n",
            "0.26      0\n",
            "0.27      0\n",
            "0.28      0\n",
            "0.29      0\n",
            "0.30      0\n",
            "0.31      0\n",
            "0.33      0\n",
            "0.34      0\n",
            "0.35      0\n",
            "0.36      0\n",
            "0.37      0\n",
            "0.38      0\n",
            "0.39      0\n",
            "0.40      0\n",
            "0.41      0\n",
            "0.42      0\n",
            "0.43      0\n",
            "0.778     0\n",
            "0.44      0\n",
            "0.45      0\n",
            "3.756     0\n",
            "61        0\n",
            "278       0\n",
            "1         0\n",
            "dtype: int64\n"
          ]
        }
      ]
    },
    {
      "cell_type": "code",
      "source": [
        "X= dfspam.iloc[:,:-1] #Indicamos que seleccione todas las columnas excepto la última\n",
        "y= dfspam.iloc[:,-1]    #En esta linea seleccionamos nuestra ultima columna"
      ],
      "metadata": {
        "id": "N3-3OwmXpMkZ"
      },
      "execution_count": null,
      "outputs": []
    },
    {
      "cell_type": "code",
      "source": [
        "X_train, X_test, y_train, y_test = train_test_split(X, y, test_size=0.15, random_state=1)#REALIZAMOS EL ENTRENAMIENTO CON UN TEST DEL 30%"
      ],
      "metadata": {
        "id": "IvVCWXY3sLax"
      },
      "execution_count": null,
      "outputs": []
    },
    {
      "cell_type": "code",
      "source": [
        "svm=SVC(kernel='poly').fit(X_train,y_train)#probamos nuestro modelo de support vector machine, con un kernel RBF"
      ],
      "metadata": {
        "colab": {
          "base_uri": "https://localhost:8080/",
          "height": 287
        },
        "id": "1yh4FppysBUK",
        "outputId": "e252a648-e048-40a8-f7c7-7e4ac69bdf5f"
      },
      "execution_count": null,
      "outputs": [
        {
          "output_type": "error",
          "ename": "KeyboardInterrupt",
          "evalue": "",
          "traceback": [
            "\u001b[0;31m---------------------------------------------------------------------------\u001b[0m",
            "\u001b[0;31mKeyboardInterrupt\u001b[0m                         Traceback (most recent call last)",
            "\u001b[0;32m<ipython-input-55-74de4a8a4f20>\u001b[0m in \u001b[0;36m<cell line: 1>\u001b[0;34m()\u001b[0m\n\u001b[0;32m----> 1\u001b[0;31m \u001b[0msvm\u001b[0m\u001b[0;34m=\u001b[0m\u001b[0mSVC\u001b[0m\u001b[0;34m(\u001b[0m\u001b[0mkernel\u001b[0m\u001b[0;34m=\u001b[0m\u001b[0;34m'poly'\u001b[0m\u001b[0;34m)\u001b[0m\u001b[0;34m.\u001b[0m\u001b[0mfit\u001b[0m\u001b[0;34m(\u001b[0m\u001b[0mX_train\u001b[0m\u001b[0;34m,\u001b[0m\u001b[0my_train\u001b[0m\u001b[0;34m)\u001b[0m\u001b[0;31m#probamos nuestro modelo de support vector machine, con un kernel RBF\u001b[0m\u001b[0;34m\u001b[0m\u001b[0;34m\u001b[0m\u001b[0m\n\u001b[0m",
            "\u001b[0;32m/usr/local/lib/python3.10/dist-packages/sklearn/svm/_base.py\u001b[0m in \u001b[0;36mfit\u001b[0;34m(self, X, y, sample_weight)\u001b[0m\n\u001b[1;32m    250\u001b[0m \u001b[0;34m\u001b[0m\u001b[0m\n\u001b[1;32m    251\u001b[0m         \u001b[0mseed\u001b[0m \u001b[0;34m=\u001b[0m \u001b[0mrnd\u001b[0m\u001b[0;34m.\u001b[0m\u001b[0mrandint\u001b[0m\u001b[0;34m(\u001b[0m\u001b[0mnp\u001b[0m\u001b[0;34m.\u001b[0m\u001b[0miinfo\u001b[0m\u001b[0;34m(\u001b[0m\u001b[0;34m\"i\"\u001b[0m\u001b[0;34m)\u001b[0m\u001b[0;34m.\u001b[0m\u001b[0mmax\u001b[0m\u001b[0;34m)\u001b[0m\u001b[0;34m\u001b[0m\u001b[0;34m\u001b[0m\u001b[0m\n\u001b[0;32m--> 252\u001b[0;31m         \u001b[0mfit\u001b[0m\u001b[0;34m(\u001b[0m\u001b[0mX\u001b[0m\u001b[0;34m,\u001b[0m \u001b[0my\u001b[0m\u001b[0;34m,\u001b[0m \u001b[0msample_weight\u001b[0m\u001b[0;34m,\u001b[0m \u001b[0msolver_type\u001b[0m\u001b[0;34m,\u001b[0m \u001b[0mkernel\u001b[0m\u001b[0;34m,\u001b[0m \u001b[0mrandom_seed\u001b[0m\u001b[0;34m=\u001b[0m\u001b[0mseed\u001b[0m\u001b[0;34m)\u001b[0m\u001b[0;34m\u001b[0m\u001b[0;34m\u001b[0m\u001b[0m\n\u001b[0m\u001b[1;32m    253\u001b[0m         \u001b[0;31m# see comment on the other call to np.iinfo in this file\u001b[0m\u001b[0;34m\u001b[0m\u001b[0;34m\u001b[0m\u001b[0m\n\u001b[1;32m    254\u001b[0m \u001b[0;34m\u001b[0m\u001b[0m\n",
            "\u001b[0;32m/usr/local/lib/python3.10/dist-packages/sklearn/svm/_base.py\u001b[0m in \u001b[0;36m_dense_fit\u001b[0;34m(self, X, y, sample_weight, solver_type, kernel, random_seed)\u001b[0m\n\u001b[1;32m    329\u001b[0m             \u001b[0mself\u001b[0m\u001b[0;34m.\u001b[0m\u001b[0mfit_status_\u001b[0m\u001b[0;34m,\u001b[0m\u001b[0;34m\u001b[0m\u001b[0;34m\u001b[0m\u001b[0m\n\u001b[1;32m    330\u001b[0m             \u001b[0mself\u001b[0m\u001b[0;34m.\u001b[0m\u001b[0m_num_iter\u001b[0m\u001b[0;34m,\u001b[0m\u001b[0;34m\u001b[0m\u001b[0;34m\u001b[0m\u001b[0m\n\u001b[0;32m--> 331\u001b[0;31m         \u001b[0;34m)\u001b[0m \u001b[0;34m=\u001b[0m \u001b[0mlibsvm\u001b[0m\u001b[0;34m.\u001b[0m\u001b[0mfit\u001b[0m\u001b[0;34m(\u001b[0m\u001b[0;34m\u001b[0m\u001b[0;34m\u001b[0m\u001b[0m\n\u001b[0m\u001b[1;32m    332\u001b[0m             \u001b[0mX\u001b[0m\u001b[0;34m,\u001b[0m\u001b[0;34m\u001b[0m\u001b[0;34m\u001b[0m\u001b[0m\n\u001b[1;32m    333\u001b[0m             \u001b[0my\u001b[0m\u001b[0;34m,\u001b[0m\u001b[0;34m\u001b[0m\u001b[0;34m\u001b[0m\u001b[0m\n",
            "\u001b[0;31mKeyboardInterrupt\u001b[0m: "
          ]
        }
      ]
    },
    {
      "cell_type": "code",
      "source": [
        "svm.score(X_test,y_test)#OBTUVIMOS UN SCORE\n"
      ],
      "metadata": {
        "id": "UPk4ncOitd6N"
      },
      "execution_count": null,
      "outputs": []
    },
    {
      "cell_type": "code",
      "source": [
        "from sklearn.metrics import confusion_matrix\n",
        "\n",
        "\n",
        "# Obtener las predicciones del modelo\n",
        "y_pred = svm.predict(X_test)\n",
        "\n",
        "# Calcular la matriz de confusión\n",
        "conf_matrix = confusion_matrix(y_test, y_pred)\n",
        "\n",
        "# Graficar la matriz de confusión\n",
        "plt.figure(figsize=(8, 6))\n",
        "sns.heatmap(conf_matrix, annot=True, fmt='d', cmap='Blues', cbar=False)\n",
        "plt.title('Matriz de Confusión')\n",
        "plt.xlabel('Predicción')\n",
        "plt.ylabel('Valor Real')\n",
        "plt.show()\n"
      ],
      "metadata": {
        "id": "EBHyhnwStew0"
      },
      "execution_count": null,
      "outputs": []
    },
    {
      "cell_type": "code",
      "source": [
        "from sklearn.model_selection import GridSearchCV\n",
        "classifier = SVC(kernel='rbf')\n",
        "parameters = [{'C': [1, 10, 100, 1000], 'kernel': ['linear']},\n",
        "              {'C': [1, 10, 100, 1000], 'kernel': ['rbf'], 'gamma': [0.1, 0.2, 0.3, 0.4, 0.5, 0.6, 0.7, 0.8, 0.9]}\n",
        "              ]\n",
        "\n",
        "grid_search = GridSearchCV(estimator = classifier,\n",
        "                           param_grid = parameters,\n",
        "                           scoring = 'accuracy',\n",
        "                           cv = 5,\n",
        "                           n_jobs = -1)\n",
        "\n",
        "grid_search = grid_search.fit(X_train, y_train)\n",
        "\n",
        "\n",
        "best_parameters = grid_search.best_params_\n",
        "print(\"The best parameters for using this model is\", best_parameters)"
      ],
      "metadata": {
        "id": "knqV6HkFtkLr"
      },
      "execution_count": null,
      "outputs": []
    },
    {
      "cell_type": "code",
      "source": [
        "svm=SVC(kernel='rbf', C=10)#utilizamos los mejores parametros obtenido con la grid search\n",
        "svm.fit(X_train, y_train)"
      ],
      "metadata": {
        "id": "jX-LlI4Styq9"
      },
      "execution_count": null,
      "outputs": []
    },
    {
      "cell_type": "code",
      "source": [
        "svm.score(X_test,y_test)#Mejor el resultado con un"
      ],
      "metadata": {
        "id": "yTDkk0FYt7MI"
      },
      "execution_count": null,
      "outputs": []
    },
    {
      "cell_type": "markdown",
      "source": [
        "##BASE DE DATOS SPAM CLASIFICACION con RANDOMFOREST"
      ],
      "metadata": {
        "id": "zP4rj1F1vUbH"
      }
    },
    {
      "cell_type": "code",
      "source": [
        "rf=RandomForestClassifier(n_estimators=10, random_state=0).fit(X_train,y_train)"
      ],
      "metadata": {
        "id": "J1ScOD0IvSk2"
      },
      "execution_count": null,
      "outputs": []
    },
    {
      "cell_type": "code",
      "source": [
        "rf.score(X_test,y_test) #Obtenemos el score de rf"
      ],
      "metadata": {
        "colab": {
          "base_uri": "https://localhost:8080/"
        },
        "id": "JYqrR9ssvh7e",
        "outputId": "e7c1cb3c-10ef-4da5-d569-4c267b0a851b"
      },
      "execution_count": null,
      "outputs": [
        {
          "output_type": "execute_result",
          "data": {
            "text/plain": [
              "0.9449275362318841"
            ]
          },
          "metadata": {},
          "execution_count": 22
        }
      ]
    },
    {
      "cell_type": "code",
      "source": [
        "# Obtener las predicciones del modelo\n",
        "y_pred = rf.predict(X_test)\n",
        "\n",
        "# Calcular la matriz de confusión\n",
        "conf_matrix = confusion_matrix(y_test, y_pred)\n",
        "\n",
        "# Graficar la matriz de confusión\n",
        "plt.figure(figsize=(8, 6))\n",
        "sns.heatmap(conf_matrix, annot=True, fmt='d', cmap='Blues', cbar=False)\n",
        "plt.title('Matriz de Confusión')\n",
        "plt.xlabel('Predicción')\n",
        "plt.ylabel('Valor Real')\n",
        "plt.show()"
      ],
      "metadata": {
        "colab": {
          "base_uri": "https://localhost:8080/",
          "height": 564
        },
        "id": "WvyJVQU2viP3",
        "outputId": "75e8aeb0-e49e-4afc-e54f-f61c4107155d"
      },
      "execution_count": null,
      "outputs": [
        {
          "output_type": "display_data",
          "data": {
            "text/plain": [
              "<Figure size 800x600 with 1 Axes>"
            ],
            "image/png": "[encoded data removed]"
          },
          "metadata": {}
        }
      ]
    },
    {
      "cell_type": "code",
      "source": [
        "from sklearn.model_selection import GridSearchCV\n",
        "\n",
        "param_grid = {\n",
        "    'n_estimators': [50, 100, 150],  # Número de árboles en el bosque\n",
        "    'max_depth': [None, 10, 20],       # Profundidad máxima del árbol\n",
        "    'min_samples_split': [2, 5, 10],   # Número mínimo de muestras requeridas para dividir un nodo interno\n",
        "    'min_samples_leaf': [1, 2, 4]      # Número mínimo de muestras requeridas para estar en un nodo hoja\n",
        "}\n",
        "\n",
        "grid_search = GridSearchCV(RandomForestClassifier(random_state=0), param_grid, cv=5, n_jobs=-1)\n",
        "\n",
        "grid_search.fit(X_train, y_train)\n",
        "\n",
        "# Mostrar los mejores hiperparámetros encontrados\n",
        "print(\"Mejores hiperparámetros:\", grid_search.best_params_)\n",
        "\n",
        "# Hacer predicciones con el mejor modelo encontrado\n",
        "best_model = grid_search.best_estimator_\n",
        "y_pred_grid = best_model.predict(X_test)\n",
        "\n",
        "grid_search = grid_search.fit(X_train, y_train)\n",
        "best_accuracy = grid_search.best_score_\n",
        "print(\"The best accuracy using gridSearch is\", best_accuracy)\n",
        "\n"
      ],
      "metadata": {
        "colab": {
          "base_uri": "https://localhost:8080/"
        },
        "id": "C10vsYDHvllt",
        "outputId": "8baae047-fbb9-4b9e-a8e1-abc0f39de943"
      },
      "execution_count": null,
      "outputs": [
        {
          "output_type": "stream",
          "name": "stdout",
          "text": [
            "Mejores hiperparámetros: {'max_depth': None, 'min_samples_leaf': 1, 'min_samples_split': 2, 'n_estimators': 50}\n",
            "The best accuracy using gridSearch is 0.9539641943734015\n"
          ]
        }
      ]
    },
    {
      "cell_type": "code",
      "source": [
        "rf = RandomForestClassifier(max_depth=None, min_samples_leaf=1, min_samples_split=2, n_estimators=50, random_state=0).fit(X_train, y_train)"
      ],
      "metadata": {
        "id": "D0EbapVbvpZ0"
      },
      "execution_count": null,
      "outputs": []
    },
    {
      "cell_type": "code",
      "source": [
        "rf.score(X_test,y_test) #Obtenemos el score de rf"
      ],
      "metadata": {
        "colab": {
          "base_uri": "https://localhost:8080/"
        },
        "id": "1-VcVl9Xvv97",
        "outputId": "63178c1c-0c6d-4e32-aa34-6d7dce1640d8"
      },
      "execution_count": null,
      "outputs": [
        {
          "output_type": "execute_result",
          "data": {
            "text/plain": [
              "0.9507246376811594"
            ]
          },
          "metadata": {},
          "execution_count": 29
        }
      ]
    },
    {
      "cell_type": "code",
      "source": [
        "data = {\n",
        "    'Técnica': ['SVM', 'SVM GS', 'RF', 'RF GS'],\n",
        "    'Accuracy': ['65.22% %', '75.07 %', '94.49 %', '95.07 %']\n",
        "}\n",
        "df = pd.DataFrame(data)\n",
        "\n",
        "print(df.to_string(index=False))"
      ],
      "metadata": {
        "colab": {
          "base_uri": "https://localhost:8080/"
        },
        "id": "FxJ0LOJ-EjsZ",
        "outputId": "b40eff20-3501-4cf2-8bd2-c236699f3813"
      },
      "execution_count": null,
      "outputs": [
        {
          "output_type": "stream",
          "name": "stdout",
          "text": [
            "Técnica Accuracy\n",
            "    SVM 65.22% %\n",
            " SVM GS  75.07 %\n",
            "     RF  94.49 %\n",
            "  RF GS  95.07 %\n"
          ]
        }
      ]
    },
    {
      "cell_type": "markdown",
      "source": [
        "![image.png](data:image/png;base64,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)"
      ],
      "metadata": {
        "id": "gJkgY9FkFCpA"
      }
    },
    {
      "cell_type": "code",
      "source": [],
      "metadata": {
        "id": "2YumN8XZFDhi"
      },
      "execution_count": null,
      "outputs": []
    },
    {
      "cell_type": "markdown",
      "source": [
        "\n",
        "\n",
        "##BASE DE DATOS DE WINEQ PARA LA CLASIFICACIÓN CON SVM"
      ],
      "metadata": {
        "id": "zUDTnsaRTQhL"
      }
    },
    {
      "cell_type": "markdown",
      "source": [
        "Clasificar la calidad del vino, de acuerdo a diferentes caracteristicas, como ph, alcohol, sulfato, etc."
      ],
      "metadata": {
        "id": "qfuav27XTnbU"
      }
    },
    {
      "cell_type": "code",
      "execution_count": null,
      "metadata": {
        "id": "NEaSeZt7Su7u"
      },
      "outputs": [],
      "source": [
        "\n",
        "#CARGANDO LA BD de wineq\n",
        "df = pd.read_csv('/content/sample_data/wineq.csv', delimiter=',')\n",
        "#CONVERTIMOS LA BD en un DATAFRAME\n",
        "df"
      ]
    },
    {
      "cell_type": "code",
      "source": [
        "df.info()"
      ],
      "metadata": {
        "id": "VcJc2z9i1Nq5"
      },
      "execution_count": null,
      "outputs": []
    },
    {
      "cell_type": "markdown",
      "source": [
        "REALIZAMOS UN PREPROCESAMIENTO DE LOS DATOS"
      ],
      "metadata": {
        "id": "62K0w_1jUaxM"
      }
    },
    {
      "cell_type": "code",
      "source": [
        "datos_faltantes = df.isnull().sum()\n",
        "print(datos_faltantes)#Podemos observar que no existen datos faltantes"
      ],
      "metadata": {
        "id": "cJbS0EgeSziB"
      },
      "execution_count": null,
      "outputs": []
    },
    {
      "cell_type": "code",
      "source": [
        "df=df.astype(float).fillna(0.0)#Convertimos los datos a flotantes para trabajar comodamente\n",
        "df"
      ],
      "metadata": {
        "id": "MjDzOUc_VQ4Q"
      },
      "execution_count": null,
      "outputs": []
    },
    {
      "cell_type": "markdown",
      "source": [
        "ASIGNACION DE DATOS PARA CLASIFICAR Y LAS CARACTERISTICAS"
      ],
      "metadata": {
        "id": "Bg8Gu8wNW8NC"
      }
    },
    {
      "cell_type": "code",
      "source": [
        "y=df.quality #Datos para clasificar\n",
        "X=df[['pH', 'density','chlorides','sulphates']]\n",
        "#X=df.drop('quality',axis=1)#Vamos a eliminar la columna quality porque unicamente trabajaremos con las demas para determinar las caracteristicas"
      ],
      "metadata": {
        "id": "Mo4IDKdDV-Z3"
      },
      "execution_count": null,
      "outputs": []
    },
    {
      "cell_type": "markdown",
      "source": [
        "ENTRANAMIENTO"
      ],
      "metadata": {
        "id": "BzmyBa-wlEZI"
      }
    },
    {
      "cell_type": "code",
      "source": [
        "X_train, X_test, y_train, y_test = train_test_split(X, y, test_size=0.15, random_state=42,stratify=y)"
      ],
      "metadata": {
        "id": "IP8z9EZEWzdo"
      },
      "execution_count": null,
      "outputs": []
    },
    {
      "cell_type": "code",
      "source": [
        "#REALIZAMOS UNA ESTANDARIZACION DE LOS DATOS\n",
        "sc = StandardScaler()\n",
        "X_train_array = sc.fit_transform(X_train.values)\n",
        "X_train = pd.DataFrame(X_train_array, index=X_train.index, columns=X_train.columns)\n",
        "X_test_array = sc.transform(X_test.values)\n",
        "X_test = pd.DataFrame(X_test_array, index=X_test.index, columns=X_test.columns)\n",
        "print(X_train)\n"
      ],
      "metadata": {
        "id": "jcGyG-HnZFIx"
      },
      "execution_count": null,
      "outputs": []
    },
    {
      "cell_type": "markdown",
      "source": [
        "PRUEBA DEL MODELO SUPPORT VECTOR MACHINE"
      ],
      "metadata": {
        "id": "nQWiOW_plHJ_"
      }
    },
    {
      "cell_type": "code",
      "source": [
        "svm=SVC(kernel='rbf').fit(X_train,y_train)"
      ],
      "metadata": {
        "id": "pWqf4ru8Znsz"
      },
      "execution_count": null,
      "outputs": []
    },
    {
      "cell_type": "code",
      "source": [
        "svm.score(X_test,y_test)#OBTUVIMOS UN SCORE"
      ],
      "metadata": {
        "id": "gdEP_RWIaBCu"
      },
      "execution_count": null,
      "outputs": []
    },
    {
      "cell_type": "code",
      "source": [
        "\n",
        "from sklearn.metrics import confusion_matrix\n",
        "\n",
        "\n",
        "# Obtener las predicciones del modelo\n",
        "y_pred = svm.predict(X_test)\n",
        "\n",
        "# Calcular la matriz de confusión\n",
        "conf_matrix = confusion_matrix(y_test, y_pred)\n",
        "\n",
        "# Graficar la matriz de confusión\n",
        "plt.figure(figsize=(8, 6))\n",
        "sns.heatmap(conf_matrix, annot=True, fmt='d', cmap='Blues', cbar=False)\n",
        "plt.title('Matriz de Confusión')\n",
        "plt.xlabel('Predicción')\n",
        "plt.ylabel('Valor Real')\n",
        "plt.show()\n"
      ],
      "metadata": {
        "id": "OkGurkcgIbzs"
      },
      "execution_count": null,
      "outputs": []
    },
    {
      "cell_type": "markdown",
      "source": [
        "REALIZAMOS UNA GRIDSEARCH PARA MEJORAR LOS RESULTADOS DEL SCORE"
      ],
      "metadata": {
        "id": "e76f_qnOgzmZ"
      }
    },
    {
      "cell_type": "code",
      "source": [
        "from sklearn.model_selection import GridSearchCV\n",
        "classifier = SVC(kernel='rbf')\n",
        "parameters = [{'C': [1, 10, 100, 1000], 'kernel': ['linear']},\n",
        "              {'C': [1, 10, 100, 1000], 'kernel': ['rbf'], 'gamma': [0.1, 0.2, 0.3, 0.4, 0.5, 0.6, 0.7, 0.8, 0.9]}\n",
        "              ]\n",
        "\n",
        "grid_search = GridSearchCV(estimator = classifier,\n",
        "                           param_grid = parameters,\n",
        "                           scoring = 'accuracy',\n",
        "                           cv = 5,\n",
        "                           n_jobs = -1)\n",
        "\n",
        "grid_search = grid_search.fit(X_train, y_train)\n",
        "best_accuracy = grid_search.best_score_\n",
        "print(\"The best accuracy using gridSearch is\", best_accuracy)\n",
        "\n",
        "best_parameters = grid_search.best_params_\n",
        "print(\"The best parameters for using this model is\", best_parameters)"
      ],
      "metadata": {
        "id": "wQdIC_Kbf-Jn",
        "collapsed": true
      },
      "execution_count": null,
      "outputs": []
    },
    {
      "source": [
        "svm=SVC(kernel='rbf', C=10)#utilizamos los mejores parametros obtenido con la grid search\n",
        "svm.fit(X_train, y_train)"
      ],
      "cell_type": "code",
      "metadata": {
        "id": "Wy5Mg4FzhuRx"
      },
      "execution_count": null,
      "outputs": []
    },
    {
      "cell_type": "code",
      "source": [
        "svm.score(X_test,y_test)#Mejor el resultado con un"
      ],
      "metadata": {
        "id": "eRad3AKgh2og"
      },
      "execution_count": null,
      "outputs": []
    },
    {
      "cell_type": "markdown",
      "source": [
        "Los parámetros clave para el modelo de máquinas de soporte vectorial (SVM) son los siguientes:\n",
        "\n",
        "C (Parámetro de Regularización): Este parámetro controla la fuerza de la regularización. Un valor más alto de C permite que el modelo se ajuste más a los datos de entrenamiento, pero podría llevar a un sobreajuste. Por otro lado, un valor más bajo de C favorece la simplicidad del modelo y puede resultar en un subajuste. Debe ser estrictamente positivo.\n",
        "Kernel: El tipo de kernel utilizado en el algoritmo SVM afecta la forma de la superficie de decisión. Los valores posibles para el parámetro kernel son:\n",
        "'linear': Kernel lineal.\n",
        "'poly': Kernel polinomial.\n",
        "'rbf': Kernel de base radial (RBF).\n",
        "'sigmoid': Kernel sigmoide.\n",
        "'precomputed': Kernel precalculado.\n",
        "Grado (degree): Este parámetro solo es relevante para el kernel polinomial ('poly'). Representa el grado del polinomio utilizado en el kernel. Debe ser un número no negativo.\n",
        "Gamma: El coeficiente de kernel para los kernels 'rbf', 'poly' y 'sigmoid'. Si se pasa gamma='scale' (valor predeterminado), se utiliza 1 / (n_features * X.var()) como valor de gamma. Si se especifica gamma='auto', se utiliza 1 / n_features. También puede ser un valor numérico no negativo.\n",
        "Coeficiente independiente (coef0): Este término solo es significativo en los kernels 'poly' y 'sigmoid'. Afecta la función del kernel.\n",
        "Encogimiento (shrinking): Determina si se utiliza la heurística de encogimiento. El encogimiento puede mejorar el rendimiento y la velocidad de ajuste.\n",
        "Estimaciones de probabilidad (probability): Habilita o deshabilita las estimaciones de probabilidad. Si se habilita, puede ralentizar el ajuste debido a la validación cruzada interna.\n",
        "Tolerancia (tol): Criterio de parada para el ajuste.\n",
        "Tamaño de caché del kernel (cache_size): Especifica el tamaño de la caché del kernel en megabytes."
      ],
      "metadata": {
        "id": "5fhsbkvpL1T7"
      }
    },
    {
      "cell_type": "markdown",
      "source": [
        "##COMPARACION DE LOS RENDIMIENTOS BASADO EN LAS METRICAS ACCURACY"
      ],
      "metadata": {
        "id": "nsOyWJUXqESk"
      }
    },
    {
      "cell_type": "markdown",
      "source": [
        "BASE DE DATOS WINEQ\n"
      ],
      "metadata": {
        "id": "fBlBiBJ4qRbv"
      }
    },
    {
      "cell_type": "code",
      "source": [
        "\n",
        "data = {\n",
        "    'Técnica': ['SVM', 'SVM GS', 'RF', 'RF GS'],\n",
        "    'Accuracy': ['56.25 %', '58.75 %', '49.58 %', '63.20 %']\n",
        "}\n",
        "df = pd.DataFrame(data)\n",
        "\n",
        "print(df.to_string(index=False))\n"
      ],
      "metadata": {
        "id": "V7zXHgwSqPfE"
      },
      "execution_count": null,
      "outputs": []
    },
    {
      "cell_type": "markdown",
      "source": [
        "## PRUEBA DEL MODELO RANDOMFOREST PARA CLASIFICACION DE WINEQ"
      ],
      "metadata": {
        "id": "GO1ixFzAOpGx"
      }
    },
    {
      "cell_type": "code",
      "source": [
        "rf=RandomForestClassifier(n_estimators=10, random_state=0).fit(X_train,y_train)"
      ],
      "metadata": {
        "id": "ZXN2h9h7Nyut"
      },
      "execution_count": null,
      "outputs": []
    },
    {
      "cell_type": "code",
      "source": [
        "rf.score(X_test,y_test) #Obtenemos el score de rf"
      ],
      "metadata": {
        "id": "y1SJriC-OmRf"
      },
      "execution_count": null,
      "outputs": []
    },
    {
      "cell_type": "code",
      "source": [
        "# Obtener las predicciones del modelo\n",
        "y_pred = rf.predict(X_test)\n",
        "\n",
        "# Calcular la matriz de confusión\n",
        "conf_matrix = confusion_matrix(y_test, y_pred)\n",
        "\n",
        "# Graficar la matriz de confusión\n",
        "plt.figure(figsize=(8, 6))\n",
        "sns.heatmap(conf_matrix, annot=True, fmt='d', cmap='Blues', cbar=False)\n",
        "plt.title('Matriz de Confusión')\n",
        "plt.xlabel('Predicción')\n",
        "plt.ylabel('Valor Real')\n",
        "plt.show()"
      ],
      "metadata": {
        "id": "O53GueERPBWb"
      },
      "execution_count": null,
      "outputs": []
    },
    {
      "cell_type": "markdown",
      "source": [
        "GRIDSEARCH PARA RF\n"
      ],
      "metadata": {
        "id": "2R4jdzOxPMUN"
      }
    },
    {
      "cell_type": "code",
      "source": [
        "\n",
        "# Definir los hiperparámetros que deseas ajustar\n",
        "param_grid = {\n",
        "    'n_estimators': [50, 100, 150],  # Número de árboles en el bosque\n",
        "    'max_depth': [None, 10, 20],       # Profundidad máxima del árbol\n",
        "    'min_samples_split': [2, 5, 10],   # Número mínimo de muestras requeridas para dividir un nodo interno\n",
        "    'min_samples_leaf': [1, 2, 4]      # Número mínimo de muestras requeridas para estar en un nodo hoja\n",
        "}\n",
        "\n",
        "grid_search = GridSearchCV(RandomForestClassifier(random_state=0), param_grid, cv=5, n_jobs=-1)\n",
        "\n",
        "grid_search.fit(X_train, y_train)\n",
        "\n",
        "# Mostrar los mejores hiperparámetros encontrados\n",
        "print(\"Mejores hiperparámetros:\", grid_search.best_params_)\n",
        "\n",
        "# Hacer predicciones con el mejor modelo encontrado\n",
        "best_model = grid_search.best_estimator_\n",
        "y_pred_grid = best_model.predict(X_test)\n",
        "\n",
        "grid_search = grid_search.fit(X_train, y_train)\n",
        "best_accuracy = grid_search.best_score_\n",
        "print(\"The best accuracy using gridSearch is\", best_accuracy)\n",
        "\n"
      ],
      "metadata": {
        "id": "IiPjf1rePO3F"
      },
      "execution_count": null,
      "outputs": []
    },
    {
      "cell_type": "markdown",
      "source": [
        "Probamos con los nuevos valores en los hiperparametros"
      ],
      "metadata": {
        "id": "IvnImDprRSmA"
      }
    },
    {
      "cell_type": "code",
      "source": [
        "rf = RandomForestClassifier(max_depth=20, min_samples_leaf=2, min_samples_split=2, n_estimators=100, random_state=0).fit(X_train, y_train)\n"
      ],
      "metadata": {
        "id": "9Pt5RAn1RQLJ"
      },
      "execution_count": null,
      "outputs": []
    },
    {
      "cell_type": "code",
      "source": [
        "rf.score(X_test,y_test) #Obtenemos el score de rf"
      ],
      "metadata": {
        "id": "1zdDx8wtRRwp"
      },
      "execution_count": null,
      "outputs": []
    },
    {
      "cell_type": "code",
      "source": [
        "# Obtener las predicciones del modelo\n",
        "y_pred = rf.predict(X_test)\n",
        "\n",
        "# Calcular la matriz de confusión\n",
        "conf_matrix = confusion_matrix(y_test, y_pred)\n",
        "\n",
        "# Graficar la matriz de confusión\n",
        "plt.figure(figsize=(8, 6))\n",
        "sns.heatmap(conf_matrix, annot=True, fmt='d', cmap='Blues', cbar=False)\n",
        "plt.title('Matriz de Confusión')\n",
        "plt.xlabel('Predicción')\n",
        "plt.ylabel('Valor Real')\n",
        "plt.show()"
      ],
      "metadata": {
        "id": "ykp_hlluTWn7",
        "collapsed": true
      },
      "execution_count": null,
      "outputs": []
    }
  ]
}